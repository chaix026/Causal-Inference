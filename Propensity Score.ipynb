{
 "cells": [
  {
   "cell_type": "markdown",
   "metadata": {},
   "source": [
    "## What is Propensity Score?\n",
    "\n",
    "The propensity score is the probability of a unit (e.g., a person, a company) being assigned to a particular treatment given a set of observed covariates. It is used to balance the distribution of observed covariates between treated and control groups in observational studies, helping to reduce bias when estimating causal effects.\n",
    "\n",
    "Formally, for a binary treatment \\( T \\) and a set of covariates \\( X \\), the propensity score \\( e(X) \\) is defined as:\n",
    "\\[ e(X) = P(T = 1 | X) \\]\n",
    "\n",
    "### Using Propensity Scores for Causal Inference\n",
    "\n",
    "#### Steps to Implement Propensity Score Methods\n",
    "\n",
    "1. **Estimate Propensity Scores**:\n",
    "   Use logistic regression or another suitable model to estimate the probability of treatment assignment based on observed covariates.\n",
    "\n",
    "2. **Check Overlap**:\n",
    "   Ensure that there is common support, meaning that for all values of the propensity score, there are both treated and control units.\n",
    "\n",
    "3. **Balance Covariates**:\n",
    "   Assess whether the covariates are balanced between treated and control groups after matching, weighting, or stratifying on the propensity score.\n",
    "\n",
    "4. **Estimate Treatment Effect**:\n",
    "   Use the propensity scores to adjust for confounding and estimate the causal effect of the treatment.\n",
    "\n",
    "### Common Methods Using Propensity Scores\n",
    "\n",
    "1. **Matching**:\n",
    "   Pair treated units with control units that have similar propensity scores.\n",
    "\n",
    "2. **Stratification**:\n",
    "   Divide the sample into strata (e.g., quintiles) based on propensity scores and compare outcomes within each stratum.\n",
    "\n",
    "3. **Inverse Probability Weighting (IPW)**:\n",
    "   Weight units by the inverse of their probability of receiving the treatment they actually received to create a pseudo-population in which the treatment is independent of covariates.\n",
    "\n",
    "4. **Covariate Adjustment**:\n",
    "   Include the propensity score as a covariate in regression models.\n",
    "\n",
    "### Example: The NSW job training program\n",
    "\n",
    "### Introduction to the NSW Job Training Program\n",
    "\n",
    "The NSW (New South Wales) Job Training Program, also known as the National Supported Work (NSW) Demonstration, was a landmark study conducted in the United States during the 1970s. The program aimed to evaluate the impact of job training on the employment outcomes of disadvantaged workers, including individuals who were long-term unemployed, ex-addicts, ex-offenders, and welfare recipients.\n",
    "\n",
    "#### Key Features of the NSW Job Training Program\n",
    "\n",
    "1. **Target Population**: The program focused on individuals who faced significant barriers to employment, providing a unique opportunity to study the effects of intensive job training on marginalized groups.\n",
    "\n",
    "2. **Randomized Controlled Trial (RCT)**: The study employed a randomized controlled trial design, where participants were randomly assigned to either a treatment group, which received job training, or a control group, which did not. This design is considered the gold standard for evaluating causal effects.\n",
    "\n",
    "3. **Comprehensive Training**: The job training provided under the NSW program was comprehensive, including elements such as on-the-job training, vocational training, and supportive services to address personal and logistical barriers to employment.\n",
    "\n",
    "4. **Longitudinal Study**: Participants were tracked over a period of time to assess long-term outcomes, allowing researchers to evaluate not just immediate impacts but also sustained effects of the training.\n",
    "\n",
    "5. **Key Outcomes**: The primary outcomes of interest were employment status, earnings, and job stability. The study sought to determine whether the job training led to significant improvements in these areas compared to the control group."
   ]
  },
  {
   "cell_type": "code",
   "execution_count": 4,
   "metadata": {},
   "outputs": [],
   "source": [
    "import pandas as pd\n",
    "import numpy as np\n",
    "\n",
    "import statsmodels.api as sm\n",
    "import statsmodels.formula.api as smf\n",
    "from causalinference import CausalModel\n",
    "\n",
    "from matplotlib import style\n",
    "from matplotlib import pyplot as plt\n",
    "import seaborn as sns\n",
    "import plotnine as p\n",
    "import graphviz as gr\n",
    "\n"
   ]
  },
  {
   "cell_type": "code",
   "execution_count": 6,
   "metadata": {},
   "outputs": [
    {
     "data": {
      "text/html": [
       "<div>\n",
       "<style scoped>\n",
       "    .dataframe tbody tr th:only-of-type {\n",
       "        vertical-align: middle;\n",
       "    }\n",
       "\n",
       "    .dataframe tbody tr th {\n",
       "        vertical-align: top;\n",
       "    }\n",
       "\n",
       "    .dataframe thead th {\n",
       "        text-align: right;\n",
       "    }\n",
       "</style>\n",
       "<table border=\"1\" class=\"dataframe\">\n",
       "  <thead>\n",
       "    <tr style=\"text-align: right;\">\n",
       "      <th></th>\n",
       "      <th>data_id</th>\n",
       "      <th>treat</th>\n",
       "      <th>age</th>\n",
       "      <th>educ</th>\n",
       "      <th>black</th>\n",
       "      <th>hisp</th>\n",
       "      <th>marr</th>\n",
       "      <th>nodegree</th>\n",
       "      <th>re74</th>\n",
       "      <th>re75</th>\n",
       "      <th>re78</th>\n",
       "    </tr>\n",
       "  </thead>\n",
       "  <tbody>\n",
       "    <tr>\n",
       "      <th>0</th>\n",
       "      <td>Dehejia-Wahba Sample</td>\n",
       "      <td>1.0</td>\n",
       "      <td>37.0</td>\n",
       "      <td>11.0</td>\n",
       "      <td>1.0</td>\n",
       "      <td>0.0</td>\n",
       "      <td>1.0</td>\n",
       "      <td>1.0</td>\n",
       "      <td>0.0</td>\n",
       "      <td>0.0</td>\n",
       "      <td>9930.045898</td>\n",
       "    </tr>\n",
       "    <tr>\n",
       "      <th>1</th>\n",
       "      <td>Dehejia-Wahba Sample</td>\n",
       "      <td>1.0</td>\n",
       "      <td>22.0</td>\n",
       "      <td>9.0</td>\n",
       "      <td>0.0</td>\n",
       "      <td>1.0</td>\n",
       "      <td>0.0</td>\n",
       "      <td>1.0</td>\n",
       "      <td>0.0</td>\n",
       "      <td>0.0</td>\n",
       "      <td>3595.894043</td>\n",
       "    </tr>\n",
       "    <tr>\n",
       "      <th>2</th>\n",
       "      <td>Dehejia-Wahba Sample</td>\n",
       "      <td>1.0</td>\n",
       "      <td>30.0</td>\n",
       "      <td>12.0</td>\n",
       "      <td>1.0</td>\n",
       "      <td>0.0</td>\n",
       "      <td>0.0</td>\n",
       "      <td>0.0</td>\n",
       "      <td>0.0</td>\n",
       "      <td>0.0</td>\n",
       "      <td>24909.449219</td>\n",
       "    </tr>\n",
       "    <tr>\n",
       "      <th>3</th>\n",
       "      <td>Dehejia-Wahba Sample</td>\n",
       "      <td>1.0</td>\n",
       "      <td>27.0</td>\n",
       "      <td>11.0</td>\n",
       "      <td>1.0</td>\n",
       "      <td>0.0</td>\n",
       "      <td>0.0</td>\n",
       "      <td>1.0</td>\n",
       "      <td>0.0</td>\n",
       "      <td>0.0</td>\n",
       "      <td>7506.145996</td>\n",
       "    </tr>\n",
       "    <tr>\n",
       "      <th>4</th>\n",
       "      <td>Dehejia-Wahba Sample</td>\n",
       "      <td>1.0</td>\n",
       "      <td>33.0</td>\n",
       "      <td>8.0</td>\n",
       "      <td>1.0</td>\n",
       "      <td>0.0</td>\n",
       "      <td>0.0</td>\n",
       "      <td>1.0</td>\n",
       "      <td>0.0</td>\n",
       "      <td>0.0</td>\n",
       "      <td>289.789886</td>\n",
       "    </tr>\n",
       "  </tbody>\n",
       "</table>\n",
       "</div>"
      ],
      "text/plain": [
       "                data_id  treat   age  educ  ...  nodegree  re74  re75          re78\n",
       "0  Dehejia-Wahba Sample    1.0  37.0  11.0  ...       1.0   0.0   0.0   9930.045898\n",
       "1  Dehejia-Wahba Sample    1.0  22.0   9.0  ...       1.0   0.0   0.0   3595.894043\n",
       "2  Dehejia-Wahba Sample    1.0  30.0  12.0  ...       0.0   0.0   0.0  24909.449219\n",
       "3  Dehejia-Wahba Sample    1.0  27.0  11.0  ...       1.0   0.0   0.0   7506.145996\n",
       "4  Dehejia-Wahba Sample    1.0  33.0   8.0  ...       1.0   0.0   0.0    289.789886\n",
       "\n",
       "[5 rows x 11 columns]"
      ]
     },
     "execution_count": 6,
     "metadata": {},
     "output_type": "execute_result"
    }
   ],
   "source": [
    "# URL to the NSW data file\n",
    "url = \"https://github.com/scunning1975/mixtape/raw/master/nsw_mixtape.dta\"\n",
    "\n",
    "# read the NSW into a dataframe\n",
    "nsw_dw = pd.read_stata(url)\n",
    "nsw_dw.head()"
   ]
  },
  {
   "cell_type": "code",
   "execution_count": 8,
   "metadata": {},
   "outputs": [
    {
     "data": {
      "text/html": [
       "<div>\n",
       "<style scoped>\n",
       "    .dataframe tbody tr th:only-of-type {\n",
       "        vertical-align: middle;\n",
       "    }\n",
       "\n",
       "    .dataframe tbody tr th {\n",
       "        vertical-align: top;\n",
       "    }\n",
       "\n",
       "    .dataframe thead th {\n",
       "        text-align: right;\n",
       "    }\n",
       "</style>\n",
       "<table border=\"1\" class=\"dataframe\">\n",
       "  <thead>\n",
       "    <tr style=\"text-align: right;\">\n",
       "      <th></th>\n",
       "      <th>data_id</th>\n",
       "      <th>treat</th>\n",
       "      <th>age</th>\n",
       "      <th>educ</th>\n",
       "      <th>black</th>\n",
       "      <th>hisp</th>\n",
       "      <th>marr</th>\n",
       "      <th>nodegree</th>\n",
       "      <th>re74</th>\n",
       "      <th>re75</th>\n",
       "      <th>re78</th>\n",
       "    </tr>\n",
       "  </thead>\n",
       "  <tbody>\n",
       "    <tr>\n",
       "      <th>0</th>\n",
       "      <td>CPS1</td>\n",
       "      <td>0</td>\n",
       "      <td>45</td>\n",
       "      <td>11</td>\n",
       "      <td>0</td>\n",
       "      <td>0</td>\n",
       "      <td>1</td>\n",
       "      <td>1</td>\n",
       "      <td>21516.669922</td>\n",
       "      <td>25243.550781</td>\n",
       "      <td>25564.669922</td>\n",
       "    </tr>\n",
       "    <tr>\n",
       "      <th>1</th>\n",
       "      <td>CPS1</td>\n",
       "      <td>0</td>\n",
       "      <td>21</td>\n",
       "      <td>14</td>\n",
       "      <td>0</td>\n",
       "      <td>0</td>\n",
       "      <td>0</td>\n",
       "      <td>0</td>\n",
       "      <td>3175.970947</td>\n",
       "      <td>5852.564941</td>\n",
       "      <td>13496.080078</td>\n",
       "    </tr>\n",
       "    <tr>\n",
       "      <th>2</th>\n",
       "      <td>CPS1</td>\n",
       "      <td>0</td>\n",
       "      <td>38</td>\n",
       "      <td>12</td>\n",
       "      <td>0</td>\n",
       "      <td>0</td>\n",
       "      <td>1</td>\n",
       "      <td>0</td>\n",
       "      <td>23039.019531</td>\n",
       "      <td>25130.759766</td>\n",
       "      <td>25564.669922</td>\n",
       "    </tr>\n",
       "    <tr>\n",
       "      <th>3</th>\n",
       "      <td>CPS1</td>\n",
       "      <td>0</td>\n",
       "      <td>48</td>\n",
       "      <td>6</td>\n",
       "      <td>0</td>\n",
       "      <td>0</td>\n",
       "      <td>1</td>\n",
       "      <td>1</td>\n",
       "      <td>24994.369141</td>\n",
       "      <td>25243.550781</td>\n",
       "      <td>25564.669922</td>\n",
       "    </tr>\n",
       "    <tr>\n",
       "      <th>4</th>\n",
       "      <td>CPS1</td>\n",
       "      <td>0</td>\n",
       "      <td>18</td>\n",
       "      <td>8</td>\n",
       "      <td>0</td>\n",
       "      <td>0</td>\n",
       "      <td>1</td>\n",
       "      <td>1</td>\n",
       "      <td>1669.295044</td>\n",
       "      <td>10727.610352</td>\n",
       "      <td>9860.869141</td>\n",
       "    </tr>\n",
       "  </tbody>\n",
       "</table>\n",
       "</div>"
      ],
      "text/plain": [
       "  data_id  treat  age  educ  ...  nodegree          re74          re75          re78\n",
       "0    CPS1      0   45    11  ...         1  21516.669922  25243.550781  25564.669922\n",
       "1    CPS1      0   21    14  ...         0   3175.970947   5852.564941  13496.080078\n",
       "2    CPS1      0   38    12  ...         0  23039.019531  25130.759766  25564.669922\n",
       "3    CPS1      0   48     6  ...         1  24994.369141  25243.550781  25564.669922\n",
       "4    CPS1      0   18     8  ...         1   1669.295044  10727.610352   9860.869141\n",
       "\n",
       "[5 rows x 11 columns]"
      ]
     },
     "execution_count": 8,
     "metadata": {},
     "output_type": "execute_result"
    }
   ],
   "source": [
    "# URL to the CPS data file\n",
    "url2 = \"https://github.com/scunning1975/mixtape/raw/master/cps_mixtape.dta\"\n",
    "\n",
    "# read the CPS into a dataframe\n",
    "cps_control = pd.read_stata(url2)\n",
    "cps_control.head()"
   ]
  },
  {
   "cell_type": "code",
   "execution_count": 9,
   "metadata": {},
   "outputs": [],
   "source": [
    "# Combine the data\n",
    "nsw_dw_cpscontrol = pd.concat((cps_control, nsw_dw))\n",
    "nsw_dw_cpscontrol['u74'], nsw_dw_cpscontrol['u75'] = 0, 0\n",
    "nsw_dw_cpscontrol.loc[nsw_dw_cpscontrol.re74==0, 'u74'] = 1\n",
    "nsw_dw_cpscontrol.loc[nsw_dw_cpscontrol.re75==0, 'u75'] = 1"
   ]
  },
  {
   "cell_type": "markdown",
   "metadata": {},
   "source": [
    "### ATE\n",
    "NSW was a randomized job-training program; therefore, the independence assumption was satisfied. So calculating average treatment effects was straightforward—it’s the simple difference in means estimator"
   ]
  },
  {
   "cell_type": "code",
   "execution_count": 7,
   "metadata": {},
   "outputs": [
    {
     "name": "stdout",
     "output_type": "stream",
     "text": [
      "The experimental ATE estimate is 1794.34\n"
     ]
    }
   ],
   "source": [
    "mean1 = nsw_dw[nsw_dw.treat==1].re78.mean()\n",
    "mean0 = nsw_dw[nsw_dw.treat==0].re78.mean()\n",
    "ate = np.unique(mean1 - mean0)[0]\n",
    "print(\"The experimental ATE estimate is {:.2f}\".format(ate))"
   ]
  },
  {
   "cell_type": "markdown",
   "metadata": {},
   "source": [
    "Using the above code, we calculate that the NSW job-training program caused real earnings in 1978 to increase by $1,794.34"
   ]
  },
  {
   "cell_type": "markdown",
   "metadata": {},
   "source": [
    "## Propensity score\n",
    "Rather than using the experimental control group from the original randomized experiment, we will use the non-experimental control group from the Current Population Survey. It is very important to stress that while the treatment group is an experimental group, the control group now consists of a random sample of Americans from that time period. Thus, the control group suffers from extreme selection bias since most Americans would not function as counterfactuals for the distressed group of workers who selected into the NSW program. In the following, we will append the CPS data to the experimental data and estimate the propensity score using logit"
   ]
  },
  {
   "cell_type": "code",
   "execution_count": 15,
   "metadata": {},
   "outputs": [
    {
     "data": {
      "image/png": "[encoded data removed]"
     },
     "metadata": {
      "image/png": {
       "height": 480,
       "width": 640
      }
     },
     "output_type": "display_data"
    }
   ],
   "source": [
    "# estimating propensity score\n",
    "logit_nsw = smf.glm(formula=\"\"\"treat ~ age + I(age**2) + I(age**3) + educ + I(educ**2) + \n",
    "                    marr + nodegree + black + hisp + re74 + re75 + u74 + u75 + educ*re74\"\"\", \n",
    "                    family=sm.families.Binomial(),\n",
    "                   data=nsw_dw_cpscontrol).fit()\n",
    "                  \n",
    "nsw_dw_cpscontrol['pscore'] = logit_nsw.predict(nsw_dw_cpscontrol)\n",
    "\n",
    "nsw_dw_cpscontrol.groupby('treat')['pscore'].mean()\n",
    "\n",
    "p.ggplot(nsw_dw_cpscontrol, p.aes(x='pscore')) + p.geom_histogram(bins=50) + p.facet_wrap(\"treat\", scales='free')"
   ]
  },
  {
   "cell_type": "markdown",
   "metadata": {},
   "source": [
    "These two simple diagnostic tests show what is going to be a problem later when we use inverse probability weighting. The probability of treatment is spread out across the units in the treatment group, but there is a very large mass of nearly zero propensity scores in the CPS. "
   ]
  },
  {
   "cell_type": "markdown",
   "metadata": {},
   "source": [
    "### Weighting on the propensity score\n",
    "inverse probability weighting"
   ]
  },
  {
   "cell_type": "code",
   "execution_count": 18,
   "metadata": {},
   "outputs": [
    {
     "name": "stdout",
     "output_type": "stream",
     "text": [
      "Treatment Effect (non-normalized, all data): -12504.90\n"
     ]
    }
   ],
   "source": [
    "\n",
    "# Manual with non-normalized weights using all data\n",
    "nsw_dw_cpscontrol = nsw_dw_cpscontrol \n",
    "nsw_dw_cpscontrol['d1'] = nsw_dw_cpscontrol.treat/nsw_dw_cpscontrol.pscore\n",
    "nsw_dw_cpscontrol['d0'] = (1-nsw_dw_cpscontrol.treat)/(1-nsw_dw_cpscontrol.pscore)\n",
    "\n",
    "\n",
    "s1 = nsw_dw_cpscontrol.d1.sum()\n",
    "s0 = nsw_dw_cpscontrol.d0.sum()\n",
    "\n",
    "nsw_dw_cpscontrol['y1'] = nsw_dw_cpscontrol['d1'] * nsw_dw_cpscontrol.re78\n",
    "nsw_dw_cpscontrol['y0'] = nsw_dw_cpscontrol['d0'] * nsw_dw_cpscontrol.re78 \n",
    "nsw_dw_cpscontrol['ht'] = nsw_dw_cpscontrol['y1'] - nsw_dw_cpscontrol['y0']\n",
    "\n",
    "te_1 = nsw_dw_cpscontrol.ht.mean()\n",
    "\n",
    "print(\"Treatment Effect (non-normalized, all data): {:.2f}\".format(te_1))\n",
    "        "
   ]
  },
  {
   "cell_type": "code",
   "execution_count": 20,
   "metadata": {},
   "outputs": [
    {
     "name": "stdout",
     "output_type": "stream",
     "text": [
      "Treatment Effect (normalized, all data): -7278.86\n"
     ]
    }
   ],
   "source": [
    "N = nsw_dw_cpscontrol.shape[0]\n",
    "\n",
    "nsw_dw_cpscontrol['y1'] = nsw_dw_cpscontrol.treat * nsw_dw_cpscontrol.re78 / nsw_dw_cpscontrol.pscore\n",
    "nsw_dw_cpscontrol['y1'] /= s1/N\n",
    "nsw_dw_cpscontrol['y0'] = (1 - nsw_dw_cpscontrol.treat) * nsw_dw_cpscontrol.re78 / (1 - nsw_dw_cpscontrol.pscore)\n",
    "nsw_dw_cpscontrol['y0'] /= s0/N\n",
    "nsw_dw_cpscontrol['ht'] = nsw_dw_cpscontrol['y1'] - nsw_dw_cpscontrol['y0']\n",
    "\n",
    "te_2 = nsw_dw_cpscontrol.ht.mean()\n",
    "\n",
    "print(\"Treatment Effect (normalized, all data): {:.2f}\".format(te_2))"
   ]
  },
  {
   "cell_type": "markdown",
   "metadata": {},
   "source": [
    "When we estimate the treatment effect using inverse probability weighting using the non-normalized weighting procedure described earlier, we find an estimated ATT of -12504.90. Using the normalization of the weights, we get -7278.86. Why is this so much different than what we get using the experimental data?\n",
    "\n",
    "Recall what inverse probability weighting is doing. It is weighting treatment and control units according to $\\hat{p}(X)$, which is causing units with very small values of the propensity score to blow up and become unusually influential in the calculation of ATT. Thus, we will need to trim the data. Here we will do a very small trim to eliminate the mass of values at the far-left tail. Crump et al. (2009) develop a principled method for addressing a lack of overlap. A good rule of thumb, they note, is to keep only observations on the interval [0.1,0.9], which was performed at the end of the program."
   ]
  },
  {
   "cell_type": "code",
   "execution_count": 21,
   "metadata": {},
   "outputs": [
    {
     "name": "stdout",
     "output_type": "stream",
     "text": [
      "Treatment Effect (non-normalized, trimmed data): 2294.72\n"
     ]
    }
   ],
   "source": [
    "nsw_dw_trimmed = nsw_dw_cpscontrol.drop(['d1', 'd0', 'y1', 'y0'], axis=1)\n",
    "nsw_dw_trimmed = nsw_dw_trimmed[nsw_dw_trimmed.pscore.between(.1, .9)]\n",
    "\n",
    "nsw_dw_trimmed['y1'] = nsw_dw_trimmed.treat * nsw_dw_trimmed.re78 / nsw_dw_trimmed.pscore\n",
    "nsw_dw_trimmed['y0'] = (1 - nsw_dw_trimmed.treat) * nsw_dw_trimmed.re78 / (1 - nsw_dw_trimmed.pscore)\n",
    "nsw_dw_trimmed['ht'] = nsw_dw_trimmed['y1'] - nsw_dw_trimmed['y0']\n",
    "\n",
    "te_3 = nsw_dw_trimmed.ht.mean()\n",
    "\n",
    "print(\"Treatment Effect (non-normalized, trimmed data): {:.2f}\".format(te_3))"
   ]
  },
  {
   "cell_type": "code",
   "execution_count": 23,
   "metadata": {},
   "outputs": [
    {
     "name": "stdout",
     "output_type": "stream",
     "text": [
      "Treatment Effect (normalized, trimmed data): 578.35\n"
     ]
    }
   ],
   "source": [
    "N = nsw_dw_trimmed.shape[0]\n",
    "\n",
    "nsw_dw_trimmed['y1'] = nsw_dw_trimmed.treat * nsw_dw_trimmed.re78 / nsw_dw_trimmed.pscore\n",
    "nsw_dw_trimmed['y1'] /= s1/N\n",
    "nsw_dw_trimmed['y0'] = (1 - nsw_dw_trimmed.treat) * nsw_dw_trimmed.re78 / (1 - nsw_dw_trimmed.pscore)\n",
    "nsw_dw_trimmed['y0'] /= s0/N\n",
    "nsw_dw_trimmed['ht'] = nsw_dw_trimmed['y1'] - nsw_dw_trimmed['y0']\n",
    "\n",
    "te_4 = nsw_dw_trimmed.ht.mean()\n",
    "\n",
    "print(\"Treatment Effect (normalized, trimmed data): {:.2f}\".format(te_4))"
   ]
  },
  {
   "cell_type": "markdown",
   "metadata": {},
   "source": [
    "## Propensity Score Matching"
   ]
  },
  {
   "cell_type": "code",
   "execution_count": 24,
   "metadata": {},
   "outputs": [
    {
     "data": {
      "text/html": [
       "<table class=\"simpletable\">\n",
       "<tr>\n",
       "      <td></td>         <th>coef</th>     <th>std err</th>      <th>t</th>      <th>P>|t|</th>  <th>[0.025</th>    <th>0.975]</th>  \n",
       "</tr>\n",
       "<tr>\n",
       "  <th>Intercept</th> <td> 1.503e+04</td> <td>   75.827</td> <td>  198.174</td> <td> 0.000</td> <td> 1.49e+04</td> <td> 1.52e+04</td>\n",
       "</tr>\n",
       "<tr>\n",
       "  <th>treat</th>     <td>  -38.7737</td> <td>  780.972</td> <td>   -0.050</td> <td> 0.960</td> <td>-1569.564</td> <td> 1492.017</td>\n",
       "</tr>\n",
       "<tr>\n",
       "  <th>pscore</th>    <td>-3.894e+04</td> <td> 1606.261</td> <td>  -24.243</td> <td> 0.000</td> <td>-4.21e+04</td> <td>-3.58e+04</td>\n",
       "</tr>\n",
       "</table>"
      ],
      "text/latex": [
       "\\begin{center}\n",
       "\\begin{tabular}{lcccccc}\n",
       "\\toprule\n",
       "                   & \\textbf{coef} & \\textbf{std err} & \\textbf{t} & \\textbf{P$> |$t$|$} & \\textbf{[0.025} & \\textbf{0.975]}  \\\\\n",
       "\\midrule\n",
       "\\textbf{Intercept} &    1.503e+04  &       75.827     &   198.174  &         0.000        &     1.49e+04    &     1.52e+04     \\\\\n",
       "\\textbf{treat}     &     -38.7737  &      780.972     &    -0.050  &         0.960        &    -1569.564    &     1492.017     \\\\\n",
       "\\textbf{pscore}    &   -3.894e+04  &     1606.261     &   -24.243  &         0.000        &    -4.21e+04    &    -3.58e+04     \\\\\n",
       "\\bottomrule\n",
       "\\end{tabular}\n",
       "\\end{center}"
      ],
      "text/plain": [
       "<class 'statsmodels.iolib.table.SimpleTable'>"
      ]
     },
     "execution_count": 24,
     "metadata": {},
     "output_type": "execute_result"
    }
   ],
   "source": [
    "smf.ols(\"re78 ~ treat + pscore\", data=nsw_dw_cpscontrol).fit().summary().tables[1]"
   ]
  },
  {
   "cell_type": "code",
   "execution_count": 25,
   "metadata": {},
   "outputs": [
    {
     "data": {
      "text/html": [
       "<table class=\"simpletable\">\n",
       "<tr>\n",
       "      <td></td>         <th>coef</th>     <th>std err</th>      <th>t</th>      <th>P>|t|</th>  <th>[0.025</th>    <th>0.975]</th>  \n",
       "</tr>\n",
       "<tr>\n",
       "  <th>Intercept</th> <td> 4857.5087</td> <td>  661.550</td> <td>    7.343</td> <td> 0.000</td> <td> 3557.773</td> <td> 6157.245</td>\n",
       "</tr>\n",
       "<tr>\n",
       "  <th>treat</th>     <td> 1778.7568</td> <td>  659.281</td> <td>    2.698</td> <td> 0.007</td> <td>  483.479</td> <td> 3074.035</td>\n",
       "</tr>\n",
       "<tr>\n",
       "  <th>pscore</th>    <td>-2282.0392</td> <td> 2237.836</td> <td>   -1.020</td> <td> 0.308</td> <td>-6678.675</td> <td> 2114.597</td>\n",
       "</tr>\n",
       "</table>"
      ],
      "text/latex": [
       "\\begin{center}\n",
       "\\begin{tabular}{lcccccc}\n",
       "\\toprule\n",
       "                   & \\textbf{coef} & \\textbf{std err} & \\textbf{t} & \\textbf{P$> |$t$|$} & \\textbf{[0.025} & \\textbf{0.975]}  \\\\\n",
       "\\midrule\n",
       "\\textbf{Intercept} &    4857.5087  &      661.550     &     7.343  &         0.000        &     3557.773    &     6157.245     \\\\\n",
       "\\textbf{treat}     &    1778.7568  &      659.281     &     2.698  &         0.007        &      483.479    &     3074.035     \\\\\n",
       "\\textbf{pscore}    &   -2282.0392  &     2237.836     &    -1.020  &         0.308        &    -6678.675    &     2114.597     \\\\\n",
       "\\bottomrule\n",
       "\\end{tabular}\n",
       "\\end{center}"
      ],
      "text/plain": [
       "<class 'statsmodels.iolib.table.SimpleTable'>"
      ]
     },
     "execution_count": 25,
     "metadata": {},
     "output_type": "execute_result"
    }
   ],
   "source": [
    "smf.ols(\"re78 ~ treat + pscore\", data=nsw_dw_trimmed).fit().summary().tables[1]"
   ]
  },
  {
   "cell_type": "code",
   "execution_count": 26,
   "metadata": {},
   "outputs": [
    {
     "name": "stdout",
     "output_type": "stream",
     "text": [
      "\n",
      "Treatment Effect Estimates: Matching\n",
      "\n",
      "                     Est.       S.e.          z      P>|z|      [95% Conf. int.]\n",
      "--------------------------------------------------------------------------------\n",
      "           ATE    871.791   1117.567      0.780      0.435  -1318.640   3062.223\n",
      "           ATC    420.143   1214.664      0.346      0.729  -1960.598   2800.884\n",
      "           ATT   2091.572   1175.591      1.779      0.075   -212.587   4395.731\n",
      "\n"
     ]
    },
    {
     "name": "stderr",
     "output_type": "stream",
     "text": [
      "C:\\Users\\chaiy\\AppData\\Local\\Packages\\PythonSoftwareFoundation.Python.3.11_qbz5n2kfra8p0\\LocalCache\\local-packages\\Python311\\site-packages\\causalinference\\estimators\\matching.py:100: FutureWarning: `rcond` parameter will change to the default of machine precision times ``max(M, N)`` where M and N are the input matrix dimensions.\n",
      "To use the future default and silence this warning we advise to pass `rcond=None`, to keep using the old, explicitly pass `rcond=-1`.\n"
     ]
    }
   ],
   "source": [
    "cm = CausalModel(\n",
    "    Y=nsw_dw_trimmed[\"re78\"].values, \n",
    "    D=nsw_dw_trimmed[\"treat\"].values, \n",
    "    X=nsw_dw_trimmed[[\"pscore\"]].values\n",
    ")\n",
    "\n",
    "cm.est_via_matching(matches=1, bias_adj=True)\n",
    "\n",
    "print(cm.estimates)"
   ]
  }
 ],
 "metadata": {
  "kernelspec": {
   "display_name": "Python 3",
   "language": "python",
   "name": "python3"
  },
  "language_info": {
   "codemirror_mode": {
    "name": "ipython",
    "version": 3
   },
   "file_extension": ".py",
   "mimetype": "text/x-python",
   "name": "python",
   "nbconvert_exporter": "python",
   "pygments_lexer": "ipython3",
   "version": "3.11.9"
  }
 },
 "nbformat": 4,
 "nbformat_minor": 2
}
