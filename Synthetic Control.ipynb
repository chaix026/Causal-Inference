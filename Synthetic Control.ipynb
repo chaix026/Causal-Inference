{
 "cells": [
  {
   "cell_type": "markdown",
   "metadata": {},
   "source": [
    "### What is Synthetic Control for Causal Inference?\n",
    "\n",
    "Synthetic control is a method used in causal inference to estimate the effect of an intervention or treatment when a traditional randomized controlled trial is not feasible. It is particularly useful in observational studies where the treatment is applied to a single unit (e.g., a country, a state, a company) and there is no obvious control group for comparison.\n",
    "\n",
    "The basic idea is to construct a \"synthetic\" control group by taking a weighted combination of untreated units (e.g., other countries, states, or companies) that approximates the characteristics of the treated unit before the intervention. The effect of the intervention is then estimated by comparing the post-intervention outcomes of the treated unit with the outcomes of the synthetic control.\n",
    "\n",
    "### Key Steps in Synthetic Control\n",
    "\n",
    "1. **Selection of Donor Pool**: Identify a set of potential control units (the donor pool) that did not receive the treatment.\n",
    "2. **Pre-Treatment Matching**: Use a weighted combination of the units in the donor pool to construct a synthetic control that closely matches the treated unit on pre-treatment characteristics and outcomes.\n",
    "3. **Estimation of Treatment Effect**: Compare the post-treatment outcomes of the treated unit with the synthetic control to estimate the causal effect of the intervention.\n",
    "\n",
    "### Example of Synthetic Control in Python\n",
    "\n",
    "#### Step 1: Prepare the Data"
   ]
  },
  {
   "cell_type": "code",
   "execution_count": 21,
   "metadata": {},
   "outputs": [],
   "source": [
    "import pandas as pd\n",
    "import numpy as np\n",
    "\n",
    "# Example data: Pre-treatment and post-treatment outcomes for one treated unit and several control units\n",
    "data = {\n",
    "    'unit': ['treated', 'control_1', 'control_2', 'control_3'],\n",
    "    'pre_1': [2, 1, 3, 2],\n",
    "    'pre_2': [3, 2, 4, 3],\n",
    "    'pre_3': [4, 3, 5, 4],\n",
    "    'post': [5, 3, 6, 4]\n",
    "}\n",
    "df = pd.DataFrame(data)\n",
    "\n",
    "# Split into treated and control units\n",
    "treated = df[df['unit'] == 'treated']\n",
    "controls = df[df['unit'] != 'treated']\n"
   ]
  },
  {
   "cell_type": "markdown",
   "metadata": {},
   "source": [
    "#### Step 2: Construct Synthetic Control\n",
    "We need to find weights for the control units that minimize the difference between the treated unit and the weighted combination of controls in the pre-treatment period."
   ]
  },
  {
   "cell_type": "code",
   "execution_count": 22,
   "metadata": {},
   "outputs": [],
   "source": [
    "from sklearn.linear_model import LinearRegression\n",
    "\n",
    "# Pre-treatment outcomes for controls\n",
    "X_pre = controls[['pre_1', 'pre_2', 'pre_3']].values\n",
    "# Pre-treatment outcomes for treated unit\n",
    "y_pre = treated[['pre_1', 'pre_2', 'pre_3']].values.flatten()\n",
    "\n",
    "# Fit regression model to find weights\n",
    "model = LinearRegression(fit_intercept=False)\n",
    "model.fit(X_pre.T, y_pre)\n",
    "weights = model.coef_\n",
    "\n",
    "# Create synthetic control\n",
    "synthetic_control = np.dot(weights, X_pre)\n"
   ]
  },
  {
   "cell_type": "markdown",
   "metadata": {},
   "source": [
    "#### Step 3: Estimate the Treatment Effect"
   ]
  },
  {
   "cell_type": "code",
   "execution_count": 23,
   "metadata": {},
   "outputs": [
    {
     "name": "stdout",
     "output_type": "stream",
     "text": [
      "Estimated Treatment Effect: 0.6666666666666625\n"
     ]
    }
   ],
   "source": [
    "# Post-treatment outcomes\n",
    "post_treated = treated['post'].values[0]\n",
    "post_synthetic = np.dot(weights, controls['post'].values)\n",
    "\n",
    "# Estimate treatment effect\n",
    "treatment_effect = post_treated - post_synthetic\n",
    "print(\"Estimated Treatment Effect:\", treatment_effect)\n"
   ]
  },
  {
   "cell_type": "markdown",
   "metadata": {},
   "source": [
    "### Conclusion\n",
    "The synthetic control method is a powerful tool for causal inference in observational studies, especially when dealing with a single treated unit. By constructing a synthetic control from a combination of untreated units that closely resembles the treated unit in the pre-treatment period, researchers can estimate the causal effect of an intervention more reliably."
   ]
  }
 ],
 "metadata": {
  "kernelspec": {
   "display_name": "Python 3",
   "language": "python",
   "name": "python3"
  },
  "language_info": {
   "codemirror_mode": {
    "name": "ipython",
    "version": 3
   },
   "file_extension": ".py",
   "mimetype": "text/x-python",
   "name": "python",
   "nbconvert_exporter": "python",
   "pygments_lexer": "ipython3",
   "version": "3.11.9"
  }
 },
 "nbformat": 4,
 "nbformat_minor": 2
}
